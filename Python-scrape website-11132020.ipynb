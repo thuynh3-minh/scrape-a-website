{
 "cells": [
  {
   "cell_type": "code",
   "execution_count": 4,
   "metadata": {},
   "outputs": [],
   "source": [
    "import pandas as pd\n",
    "import csv\n",
    "import httplib2\n",
    "from bs4 import BeautifulSoup\n",
    "import urllib.request\n",
    "\n",
    "def get_name(letter):\n",
    "    ls = []\n",
    "    parser = 'html.parser' \n",
    "    resp = urllib.request.urlopen(\"https://www.angelo.edu/directory/faculty_staff.php?lname=\"+letter)\n",
    "    soup = BeautifulSoup(resp, parser, from_encoding=resp.info().get_param('charset'))\n",
    "    \n",
    "    for link in soup.find_all('a', href=True):\n",
    "        if('profile' in link['href']):\n",
    "            a = link['href'].split('-')[1:]\n",
    "            seperator= ' '\n",
    "            #last name + mid initial + last name\n",
    "            #print(seperator.join(a[::-1]).title())\n",
    "            #first name + mid initial + last name\n",
    "            b = a[::-1]\n",
    "            ls.append(seperator.join(b[::-1]).title())\n",
    "    return ls"
   ]
  },
  {
   "cell_type": "code",
   "execution_count": 5,
   "metadata": {},
   "outputs": [],
   "source": [
    "list2 = []\n",
    "for i in 'ABCDEFGHIJKLMNOPQRSTUVWYZ':\n",
    "    list1 = get_name(i)\n",
    "    for i in list1:\n",
    "        list2.append(i)"
   ]
  },
  {
   "cell_type": "code",
   "execution_count": 6,
   "metadata": {},
   "outputs": [],
   "source": [
    "df = pd.DataFrame(data= list2)\n",
    "df.to_csv(\"professor name.csv\")"
   ]
  },
  {
   "cell_type": "code",
   "execution_count": null,
   "metadata": {},
   "outputs": [],
   "source": []
  }
 ],
 "metadata": {
  "kernelspec": {
   "display_name": "Python 3",
   "language": "python",
   "name": "python3"
  },
  "language_info": {
   "codemirror_mode": {
    "name": "ipython",
    "version": 3
   },
   "file_extension": ".py",
   "mimetype": "text/x-python",
   "name": "python",
   "nbconvert_exporter": "python",
   "pygments_lexer": "ipython3",
   "version": "3.8.3"
  }
 },
 "nbformat": 4,
 "nbformat_minor": 4
}
